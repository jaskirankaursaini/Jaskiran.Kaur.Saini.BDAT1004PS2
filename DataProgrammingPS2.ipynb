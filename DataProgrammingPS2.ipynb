{
 "cells": [
  {
   "cell_type": "markdown",
   "id": "aab5048b",
   "metadata": {},
   "source": [
    "# Question1"
   ]
  },
  {
   "cell_type": "code",
   "execution_count": 3,
   "id": "b614e44f",
   "metadata": {},
   "outputs": [],
   "source": [
    "a=0\n",
    "def b():\n",
    "    global a\n",
    "    a=c(a)\n",
    "    \n",
    "def c(a):\n",
    "    return a+2"
   ]
  },
  {
   "cell_type": "code",
   "execution_count": 4,
   "id": "0854c4f0",
   "metadata": {},
   "outputs": [],
   "source": [
    "b()\n",
    "b()\n",
    "b()"
   ]
  },
  {
   "cell_type": "code",
   "execution_count": 5,
   "id": "f1c4edd5",
   "metadata": {},
   "outputs": [
    {
     "data": {
      "text/plain": [
       "6"
      ]
     },
     "execution_count": 5,
     "metadata": {},
     "output_type": "execute_result"
    }
   ],
   "source": [
    "a"
   ]
  },
  {
   "cell_type": "markdown",
   "id": "d03cdbd5",
   "metadata": {},
   "source": [
    "The value 6 is displayed i.e. value at the end of execution equals to 6.\n",
    "Initially the variable a is declared global and the value at begining of a=0.\n",
    "Each time the function b() is executed, the value of a is incremented by 2 through the function c(a).\n",
    "As the b() is called 3 times and hence the value of a is incremented 3 times."
   ]
  },
  {
   "cell_type": "markdown",
   "id": "8f2913ad",
   "metadata": {},
   "source": [
    "# Question2 "
   ]
  },
  {
   "cell_type": "code",
   "execution_count": 99,
   "id": "d7aea013",
   "metadata": {},
   "outputs": [],
   "source": [
    "def file_length(file_name):\n",
    "    try:\n",
    "        file = open(file_name)\n",
    "        contents = file.read()\n",
    "        file.close()\n",
    "        print(len(contents))\n",
    "    except:\n",
    "        print(\"File \"+ file_name +\" not found.\")"
   ]
  },
  {
   "cell_type": "code",
   "execution_count": 53,
   "id": "05f0c742",
   "metadata": {},
   "outputs": [
    {
     "name": "stdout",
     "output_type": "stream",
     "text": [
      "40\n"
     ]
    }
   ],
   "source": [
    "file_length('midterm.py')\n"
   ]
  },
  {
   "cell_type": "code",
   "execution_count": 56,
   "id": "e3cda96a",
   "metadata": {},
   "outputs": [
    {
     "name": "stdout",
     "output_type": "stream",
     "text": [
      "File idterm.py not found.\n"
     ]
    }
   ],
   "source": [
    "file_length('idterm.py')"
   ]
  },
  {
   "cell_type": "markdown",
   "id": "b0f4a07a",
   "metadata": {},
   "source": [
    "# Question3"
   ]
  },
  {
   "cell_type": "code",
   "execution_count": 100,
   "id": "c8c4d9c5",
   "metadata": {},
   "outputs": [],
   "source": [
    "class Marsupial:\n",
    "    def __init__(self):\n",
    "        self.mlist=[]\n",
    "    def put_in_pouch(self,item): \n",
    "        self.mlist.append(item)\n",
    "    def pouch_contents(self): \n",
    "        return self.mlist\n",
    "    "
   ]
  },
  {
   "cell_type": "code",
   "execution_count": 95,
   "id": "539b68de",
   "metadata": {},
   "outputs": [
    {
     "data": {
      "text/plain": [
       "['doll', 'firetruck', 'kitten']"
      ]
     },
     "execution_count": 95,
     "metadata": {},
     "output_type": "execute_result"
    }
   ],
   "source": [
    "m=Marsupial()\n",
    "m.put_in_pouch('doll')\n",
    "m.put_in_pouch('firetruck')\n",
    "m.put_in_pouch('kitten')\n",
    "m.pouch_contents()"
   ]
  },
  {
   "cell_type": "code",
   "execution_count": 114,
   "id": "ad6cc371",
   "metadata": {},
   "outputs": [],
   "source": [
    "class Kangaroo(Marsupial):\n",
    "    def __init__(self,xcord,ycord):\n",
    "        Marsupial.__init__(self)\n",
    "        self.x=xcord\n",
    "        self.y=ycord\n",
    "    def jump(self,dx,dy):\n",
    "        self.x+=dx\n",
    "        self.y+=dy\n",
    "    def __str__(self):\n",
    "        return \"I am a Kangaroo located at cordinates: (\"+str(self.x)+\",\"+str(self.y)+\")\""
   ]
  },
  {
   "cell_type": "code",
   "execution_count": 115,
   "id": "95de2cf0",
   "metadata": {},
   "outputs": [
    {
     "name": "stdout",
     "output_type": "stream",
     "text": [
      "I am a Kangaroo located at cordinates: (0,0)\n"
     ]
    }
   ],
   "source": [
    "k=Kangaroo(0,0)\n",
    "print(k)\n"
   ]
  },
  {
   "cell_type": "code",
   "execution_count": 116,
   "id": "5c65bdfd",
   "metadata": {},
   "outputs": [
    {
     "data": {
      "text/plain": [
       "['doll', 'firetruck', 'kitten']"
      ]
     },
     "execution_count": 116,
     "metadata": {},
     "output_type": "execute_result"
    }
   ],
   "source": [
    "k.put_in_pouch('doll')\n",
    "k.put_in_pouch('firetruck')\n",
    "k.put_in_pouch('kitten')\n",
    "k.pouch_contents()\n"
   ]
  },
  {
   "cell_type": "code",
   "execution_count": 117,
   "id": "ad5a290c",
   "metadata": {},
   "outputs": [
    {
     "name": "stdout",
     "output_type": "stream",
     "text": [
      "I am a Kangaroo located at cordinates: (3,0)\n"
     ]
    }
   ],
   "source": [
    "k.jump(1,0)\n",
    "k.jump(1,0)\n",
    "k.jump(1,0)\n",
    "print(k)"
   ]
  },
  {
   "cell_type": "markdown",
   "id": "11ff7dd0",
   "metadata": {},
   "source": [
    "# Question 4"
   ]
  },
  {
   "cell_type": "code",
   "execution_count": 8,
   "id": "e510a89b",
   "metadata": {},
   "outputs": [],
   "source": [
    "def collatz(n):\n",
    "    if n==1:\n",
    "        return n\n",
    "    if n%2 == 0:\n",
    "        print(n)\n",
    "        return collatz(n//2)\n",
    "    if n%2 == 1:\n",
    "        print(n)\n",
    "        return collatz(3*n+1)"
   ]
  },
  {
   "cell_type": "code",
   "execution_count": 9,
   "id": "fcb2e64d",
   "metadata": {},
   "outputs": [
    {
     "data": {
      "text/plain": [
       "1"
      ]
     },
     "execution_count": 9,
     "metadata": {},
     "output_type": "execute_result"
    }
   ],
   "source": [
    "collatz(1)"
   ]
  },
  {
   "cell_type": "code",
   "execution_count": 10,
   "id": "c029cc19",
   "metadata": {},
   "outputs": [
    {
     "name": "stdout",
     "output_type": "stream",
     "text": [
      "10\n",
      "5\n",
      "16\n",
      "8\n",
      "4\n",
      "2\n"
     ]
    },
    {
     "data": {
      "text/plain": [
       "1"
      ]
     },
     "execution_count": 10,
     "metadata": {},
     "output_type": "execute_result"
    }
   ],
   "source": [
    "collatz(10)"
   ]
  },
  {
   "cell_type": "markdown",
   "id": "f86a1e8a",
   "metadata": {},
   "source": [
    "# Question5"
   ]
  },
  {
   "cell_type": "code",
   "execution_count": 11,
   "id": "89b22a93",
   "metadata": {},
   "outputs": [],
   "source": [
    "def binary(n):\n",
    "    if n==0:\n",
    "        return 0\n",
    "    else:\n",
    "        return (n%2+10*binary(int(n//2)))"
   ]
  },
  {
   "cell_type": "code",
   "execution_count": 13,
   "id": "4a96ad7f",
   "metadata": {},
   "outputs": [
    {
     "data": {
      "text/plain": [
       "0"
      ]
     },
     "execution_count": 13,
     "metadata": {},
     "output_type": "execute_result"
    }
   ],
   "source": [
    "binary(0)"
   ]
  },
  {
   "cell_type": "code",
   "execution_count": 14,
   "id": "cd5d4376",
   "metadata": {},
   "outputs": [
    {
     "data": {
      "text/plain": [
       "1"
      ]
     },
     "execution_count": 14,
     "metadata": {},
     "output_type": "execute_result"
    }
   ],
   "source": [
    "binary(1)"
   ]
  },
  {
   "cell_type": "code",
   "execution_count": 15,
   "id": "d888e152",
   "metadata": {},
   "outputs": [
    {
     "data": {
      "text/plain": [
       "11"
      ]
     },
     "execution_count": 15,
     "metadata": {},
     "output_type": "execute_result"
    }
   ],
   "source": [
    "binary(3)"
   ]
  },
  {
   "cell_type": "code",
   "execution_count": 16,
   "id": "f48aa421",
   "metadata": {},
   "outputs": [
    {
     "data": {
      "text/plain": [
       "1001"
      ]
     },
     "execution_count": 16,
     "metadata": {},
     "output_type": "execute_result"
    }
   ],
   "source": [
    "binary(9)"
   ]
  },
  {
   "cell_type": "markdown",
   "id": "00e99100",
   "metadata": {},
   "source": [
    "# Question6"
   ]
  },
  {
   "cell_type": "code",
   "execution_count": 147,
   "id": "4c39f4e8",
   "metadata": {},
   "outputs": [],
   "source": [
    "from html.parser import HTMLParser\n",
    "class HeadingParser(HTMLParser):\n",
    "    headings = ['h1', 'h2']\n",
    "    def handle_starttag(self, tag, attrs):\n",
    "        if tag in self.headings:\n",
    "            return tag\n",
    "    def handle_endtag(self, tag):\n",
    "        if tag in self.headings:\n",
    "            return tag\n",
    "    def handle_data(self, data):\n",
    "        print(data)\n",
    "        \n"
   ]
  },
  {
   "cell_type": "code",
   "execution_count": 148,
   "id": "47600809",
   "metadata": {},
   "outputs": [
    {
     "name": "stdout",
     "output_type": "stream",
     "text": [
      "\n",
      "\n",
      "\n",
      "\n",
      "\n",
      "\n",
      "  \n",
      "\n",
      "  \n",
      "\n",
      "  \n",
      "Change_me\n",
      "\n",
      "  \n",
      "\n",
      "  \n",
      "\n",
      "  \n",
      "\n",
      "\n",
      "\n",
      "\n",
      "\n",
      "\n",
      "  \n",
      "\t\n",
      "W3C Mission\n",
      "\n",
      "\t\n",
      "Principles\n",
      "\n",
      " \n",
      "\n",
      "\n",
      "\n",
      "\n",
      "\n"
     ]
    }
   ],
   "source": [
    "infile = open('w3c.html')\n",
    "content= infile.read()\n",
    "infile.close()\n",
    "hp = HeadingParser()\n",
    "hp.feed(content)\n"
   ]
  },
  {
   "cell_type": "markdown",
   "id": "94da14f2",
   "metadata": {},
   "source": [
    "# Question7"
   ]
  },
  {
   "cell_type": "code",
   "execution_count": 165,
   "id": "3d29d67e",
   "metadata": {},
   "outputs": [],
   "source": [
    "from urllib.parse import urljoin\n",
    "from html.parser import HTMLParser\n",
    "from urllib import request\n",
    "class Collector(HTMLParser):\n",
    "    'collects hyperlink URLs into a list'\n",
    "\n",
    "    def __init__(self, url):\n",
    "        'initializes parser, the url, and a list'\n",
    "        HTMLParser.__init__(self)\n",
    "        self.url = url\n",
    "        self.links = []\n",
    "\n",
    "    \n",
    "    def handle_starttag(self, tag, attrs):\n",
    "        'collects hyperlink URLs in their absolute format'\n",
    "        if tag == 'a':\n",
    "            for attr in attrs:\n",
    "                if attr[0] == 'href':\n",
    "                    # construct absolute URL\n",
    "                    absolute = urljoin(self.url, attr[1])\n",
    "                    if absolute[:4] == 'http': # collect HTTP URLs\n",
    "                        self.links.append(absolute)\n",
    "                        \n",
    "    def getLinks(self):\n",
    "        'returns hyperlinks URLs in their absolute format'\n",
    "        return self.links"
   ]
  },
  {
   "cell_type": "code",
   "execution_count": null,
   "id": "cd58e8f4",
   "metadata": {},
   "outputs": [],
   "source": [
    "url = 'http://reed.cs.depaul.edu/lperkovic/csc242/test1.html'\n",
    "resource = request.urlopen(url)\n",
    "content = resource.read().decode()\n",
    "collector = Collector(url)\n",
    "collector.feed(content)\n",
    "collector.getLinks()"
   ]
  },
  {
   "cell_type": "markdown",
   "id": "c50220e3",
   "metadata": {},
   "source": [
    "# Question8"
   ]
  },
  {
   "cell_type": "code",
   "execution_count": 17,
   "id": "9505f892",
   "metadata": {},
   "outputs": [],
   "source": [
    "import sqlite3\n",
    "connectobj = sqlite3.connect(\"sqlite_jas.db\")"
   ]
  },
  {
   "cell_type": "code",
   "execution_count": 79,
   "id": "20f8d6d8",
   "metadata": {},
   "outputs": [
    {
     "data": {
      "text/plain": [
       "<sqlite3.Cursor at 0x2130eb85880>"
      ]
     },
     "execution_count": 79,
     "metadata": {},
     "output_type": "execute_result"
    }
   ],
   "source": [
    "cur = connectobj.cursor()\n",
    "cur.execute(\"CREATE TABLE WEATHER (City text, Country text, Season text, Temperature float, Rainfall float)\")"
   ]
  },
  {
   "cell_type": "code",
   "execution_count": 80,
   "id": "cbb606d1",
   "metadata": {},
   "outputs": [],
   "source": [
    "cur.execute(\"INSERT INTO WEATHER VALUES ('Mumbai','India','Winter',24.8,5.9)\")\n",
    "cur.execute(\"INSERT INTO WEATHER VALUES ('Mumbai','India','Spring',28.4,16.2)\")\n",
    "cur.execute(\"INSERT INTO WEATHER VALUES ('Mumbai','India','Summer',27.9,1549.4)\")\n",
    "cur.execute(\"INSERT INTO WEATHER VALUES ('Mumbai','India','Fall',27.6,346.0)\")\n",
    "cur.execute(\"INSERT INTO WEATHER VALUES ('London','United Kingdom','Winter',4.2,207.7)\")\n",
    "cur.execute(\"INSERT INTO WEATHER VALUES ('London','United Kingdom','Spring',8.3,169.6)\")\n",
    "cur.execute(\"INSERT INTO WEATHER VALUES ('London','United Kingdom','Summer',15.7,157.0)\")\n",
    "cur.execute(\"INSERT INTO WEATHER VALUES ('London','United Kingdom','Fall',10.4,218.5)\")\n",
    "cur.execute(\"INSERT INTO WEATHER VALUES ('Cairo','Egypt','Winter',13.6,16.5)\")\n",
    "cur.execute(\"INSERT INTO WEATHER VALUES ('Cairo','Egypt','Spring',20.7,6.5)\")\n",
    "cur.execute(\"INSERT INTO WEATHER VALUES ('Cairo','Egypt','Summer',27.7,0.1)\")\n",
    "cur.execute(\"INSERT INTO WEATHER VALUES ('Cairo','Egypt','Fall',22.2,4.5)\")\n",
    "connectobj.commit()"
   ]
  },
  {
   "cell_type": "code",
   "execution_count": 81,
   "id": "62a5c9d5",
   "metadata": {},
   "outputs": [
    {
     "data": {
      "text/plain": [
       "[(24.8,),\n",
       " (28.4,),\n",
       " (27.9,),\n",
       " (27.6,),\n",
       " (4.2,),\n",
       " (8.3,),\n",
       " (15.7,),\n",
       " (10.4,),\n",
       " (13.6,),\n",
       " (20.7,),\n",
       " (27.7,),\n",
       " (22.2,)]"
      ]
     },
     "execution_count": 81,
     "metadata": {},
     "output_type": "execute_result"
    }
   ],
   "source": [
    "# (a) Part\n",
    "cur.execute(\"SELECT Temperature FROM WEATHER\")\n",
    "cur.fetchall()"
   ]
  },
  {
   "cell_type": "code",
   "execution_count": 39,
   "id": "d94f9be9",
   "metadata": {},
   "outputs": [
    {
     "data": {
      "text/plain": [
       "[('Mumbai',), ('London',), ('Cairo',)]"
      ]
     },
     "execution_count": 39,
     "metadata": {},
     "output_type": "execute_result"
    }
   ],
   "source": [
    "# (b) Part\n",
    "cur.execute(\"SELECT DISTINCT City FROM WEATHER\")\n",
    "cur.fetchall()"
   ]
  },
  {
   "cell_type": "code",
   "execution_count": 40,
   "id": "a4f16125",
   "metadata": {},
   "outputs": [
    {
     "data": {
      "text/plain": [
       "[('Mumbai', 'India', 'Winter', 24.8, 5.9),\n",
       " ('Mumbai', 'India', 'Spring', 28.4, 16.2),\n",
       " ('Mumbai', 'India', 'Summer', 27.9, 1549.4),\n",
       " ('Mumbai', 'India', 'Fall', 27.6, 346.0)]"
      ]
     },
     "execution_count": 40,
     "metadata": {},
     "output_type": "execute_result"
    }
   ],
   "source": [
    "# (c) Part\n",
    "cur.execute(\"SELECT * FROM WEATHER WHERE Country='India'\")\n",
    "cur.fetchall()"
   ]
  },
  {
   "cell_type": "code",
   "execution_count": 41,
   "id": "a5026807",
   "metadata": {},
   "outputs": [
    {
     "data": {
      "text/plain": [
       "[('Mumbai', 'India', 'Fall', 27.6, 346.0),\n",
       " ('London', 'United Kingdom', 'Fall', 10.4, 218.5),\n",
       " ('Cairo', 'Egypt', 'Fall', 22.2, 4.5)]"
      ]
     },
     "execution_count": 41,
     "metadata": {},
     "output_type": "execute_result"
    }
   ],
   "source": [
    "# (d) Part\n",
    "cur.execute(\"SELECT * FROM WEATHER WHERE Season='Fall'\")\n",
    "cur.fetchall()"
   ]
  },
  {
   "cell_type": "code",
   "execution_count": 42,
   "id": "b90bb98f",
   "metadata": {},
   "outputs": [
    {
     "data": {
      "text/plain": [
       "[('Mumbai', 'India', 'Fall'),\n",
       " ('London', 'United Kingdom', 'Winter'),\n",
       " ('London', 'United Kingdom', 'Fall')]"
      ]
     },
     "execution_count": 42,
     "metadata": {},
     "output_type": "execute_result"
    }
   ],
   "source": [
    "# (e) Part\n",
    "cur.execute(\"SELECT City,Country,Season FROM WEATHER WHERE Rainfall BETWEEN 200 AND 400\")\n",
    "cur.fetchall()"
   ]
  },
  {
   "cell_type": "code",
   "execution_count": 43,
   "id": "9c8e73ec",
   "metadata": {},
   "outputs": [
    {
     "data": {
      "text/plain": [
       "[('Cairo', 'Egypt', 20.7),\n",
       " ('Cairo', 'Egypt', 22.2),\n",
       " ('Mumbai', 'India', 24.8),\n",
       " ('Mumbai', 'India', 27.6),\n",
       " ('Cairo', 'Egypt', 27.7),\n",
       " ('Mumbai', 'India', 27.9),\n",
       " ('Mumbai', 'India', 28.4)]"
      ]
     },
     "execution_count": 43,
     "metadata": {},
     "output_type": "execute_result"
    }
   ],
   "source": [
    "# (f) Part\n",
    "cur.execute(\"SELECT City,Country,Temperature FROM WEATHER WHERE Temperature >20 ORDER BY Temperature\")\n",
    "cur.fetchall()"
   ]
  },
  {
   "cell_type": "code",
   "execution_count": 44,
   "id": "7ef94906",
   "metadata": {},
   "outputs": [
    {
     "data": {
      "text/plain": [
       "[(27.6,)]"
      ]
     },
     "execution_count": 44,
     "metadata": {},
     "output_type": "execute_result"
    }
   ],
   "source": [
    "# (g) Part\n",
    "cur.execute(\"SELECT SUM(Rainfall) FROM WEATHER WHERE City='Cairo'\")\n",
    "cur.fetchall()"
   ]
  },
  {
   "cell_type": "code",
   "execution_count": 45,
   "id": "29d32622",
   "metadata": {},
   "outputs": [
    {
     "data": {
      "text/plain": [
       "[('Fall', 569.0),\n",
       " ('Spring', 192.29999999999998),\n",
       " ('Summer', 1706.5),\n",
       " ('Winter', 230.1)]"
      ]
     },
     "execution_count": 45,
     "metadata": {},
     "output_type": "execute_result"
    }
   ],
   "source": [
    "# (h) Part\n",
    "cur.execute(\"SELECT Season, SUM(Rainfall) FROM WEATHER GROUP BY Season\")\n",
    "cur.fetchall()"
   ]
  },
  {
   "cell_type": "markdown",
   "id": "d29eb829",
   "metadata": {},
   "source": [
    "# Question9"
   ]
  },
  {
   "cell_type": "code",
   "execution_count": 19,
   "id": "0e46ba0e",
   "metadata": {},
   "outputs": [],
   "source": [
    "words=['The','quick','brown','fox','jumps','over','the','lazy','dog']"
   ]
  },
  {
   "cell_type": "code",
   "execution_count": 20,
   "id": "c029e081",
   "metadata": {},
   "outputs": [
    {
     "name": "stdout",
     "output_type": "stream",
     "text": [
      "['THE', 'QUICK', 'BROWN', 'FOX', 'JUMPS', 'OVER', 'THE', 'LAZY', 'DOG']\n"
     ]
    }
   ],
   "source": [
    "#(a) Uppercase\n",
    "words_upper = [x.upper() for x in words]\n",
    "print(words_upper)"
   ]
  },
  {
   "cell_type": "code",
   "execution_count": 22,
   "id": "334b549d",
   "metadata": {},
   "outputs": [
    {
     "name": "stdout",
     "output_type": "stream",
     "text": [
      "['the', 'quick', 'brown', 'fox', 'jumps', 'over', 'the', 'lazy', 'dog']\n"
     ]
    }
   ],
   "source": [
    "#(b) Lowercase\n",
    "words_lower = [x.lower() for x in words]\n",
    "print(words_lower)"
   ]
  },
  {
   "cell_type": "code",
   "execution_count": 23,
   "id": "db8ddfb4",
   "metadata": {},
   "outputs": [
    {
     "name": "stdout",
     "output_type": "stream",
     "text": [
      "[3, 5, 5, 3, 5, 4, 3, 4, 3]\n"
     ]
    }
   ],
   "source": [
    "#(c) Length\n",
    "words_len = [len(x) for x in words]\n",
    "print(words_len)"
   ]
  },
  {
   "cell_type": "code",
   "execution_count": 24,
   "id": "a9651b96",
   "metadata": {},
   "outputs": [
    {
     "name": "stdout",
     "output_type": "stream",
     "text": [
      "[['THE', 'the', 3], ['QUICK', 'quick', 5], ['BROWN', 'brown', 5], ['FOX', 'fox', 3], ['JUMPS', 'jumps', 5], ['OVER', 'over', 4], ['THE', 'the', 3], ['LAZY', 'lazy', 4], ['DOG', 'dog', 3]]\n"
     ]
    }
   ],
   "source": [
    "#(d)  Uppercase, Lowercase, Length\n",
    "words_list = [[x.upper(),x.lower(),len(x)] for x in words]\n",
    "print(words_list)"
   ]
  },
  {
   "cell_type": "code",
   "execution_count": 25,
   "id": "70651994",
   "metadata": {},
   "outputs": [
    {
     "name": "stdout",
     "output_type": "stream",
     "text": [
      "['quick', 'brown', 'jumps', 'over', 'lazy']\n"
     ]
    }
   ],
   "source": [
    "#(e)  Length>=4\n",
    "wordslist = [x for x in words if len(x)>=4]\n",
    "print(wordslist)"
   ]
  }
 ],
 "metadata": {
  "kernelspec": {
   "display_name": "Python 3 (ipykernel)",
   "language": "python",
   "name": "python3"
  },
  "language_info": {
   "codemirror_mode": {
    "name": "ipython",
    "version": 3
   },
   "file_extension": ".py",
   "mimetype": "text/x-python",
   "name": "python",
   "nbconvert_exporter": "python",
   "pygments_lexer": "ipython3",
   "version": "3.9.12"
  }
 },
 "nbformat": 4,
 "nbformat_minor": 5
}
